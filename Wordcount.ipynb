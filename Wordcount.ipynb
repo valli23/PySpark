{
  "nbformat": 4,
  "nbformat_minor": 0,
  "metadata": {
    "colab": {
      "name": "Wordcount",
      "provenance": [],
      "authorship_tag": "ABX9TyPa8uaTpLugXKleXHSNF2/Z",
      "include_colab_link": true
    },
    "kernelspec": {
      "name": "python3",
      "display_name": "Python 3"
    }
  },
  "cells": [
    {
      "cell_type": "markdown",
      "metadata": {
        "id": "view-in-github",
        "colab_type": "text"
      },
      "source": [
        "<a href=\"https://colab.research.google.com/github/valli23/PySpark/blob/main/Wordcount.ipynb\" target=\"_parent\"><img src=\"https://colab.research.google.com/assets/colab-badge.svg\" alt=\"Open In Colab\"/></a>"
      ]
    },
    {
      "cell_type": "code",
      "metadata": {
        "id": "IYE38DLnpV5q"
      },
      "source": [
        "#RDD Transformations and Actions on Movies DataSet"
      ],
      "execution_count": 14,
      "outputs": []
    },
    {
      "cell_type": "markdown",
      "metadata": {
        "id": "6Nt9TWHXpbZO"
      },
      "source": [
        "#INSTALLATION OF SPARK ON COLAB"
      ]
    },
    {
      "cell_type": "code",
      "metadata": {
        "id": "PK3JDYJKpb-j"
      },
      "source": [
        "!apt-get install openjdk-8-jdk-headless -qq > /dev/null\n",
        "!wget -q https://apache.mirrors.benatherton.com/spark/spark-3.0.1/spark-3.0.1-bin-hadoop2.7.tgz\n",
        "!tar xf spark-3.0.1-bin-hadoop2.7.tgz\n",
        "!pip install -q findspark"
      ],
      "execution_count": 1,
      "outputs": []
    },
    {
      "cell_type": "code",
      "metadata": {
        "id": "_7TDm3nDpeYd"
      },
      "source": [
        "# #Installed spark latest version, trying to configure the enviornment to use PySpark"
      ],
      "execution_count": 2,
      "outputs": []
    },
    {
      "cell_type": "code",
      "metadata": {
        "id": "eT5aCy-EpruP"
      },
      "source": [
        "import os\n",
        "os.environ[\"JAVA_HOME\"] = \"/usr/lib/jvm/java-8-openjdk-amd64\"\n",
        "os.environ[\"SPARK_HOME\"] = \"/content/spark-3.0.1-bin-hadoop2.7\""
      ],
      "execution_count": 3,
      "outputs": []
    },
    {
      "cell_type": "code",
      "metadata": {
        "id": "a-IiSS-BpuBS"
      },
      "source": [
        "#Run a spark session"
      ],
      "execution_count": 4,
      "outputs": []
    },
    {
      "cell_type": "code",
      "metadata": {
        "id": "VT6EqkKXpxt3"
      },
      "source": [
        "import findspark\n",
        "findspark.init()\n",
        "from pyspark.sql import SparkSession\n",
        "from pyspark.sql import functions as func\n",
        "\n",
        "spark = SparkSession.builder.appName(\"WordCount\").getOrCreate()\n",
        "\n"
      ],
      "execution_count": 70,
      "outputs": []
    },
    {
      "cell_type": "code",
      "metadata": {
        "colab": {
          "resources": {
            "http://localhost:8080/nbextensions/google.colab/files.js": {
              "data": "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",
              "ok": true,
              "headers": [
                [
                  "content-type",
                  "application/javascript"
                ]
              ],
              "status": 200,
              "status_text": ""
            }
          },
          "base_uri": "https://localhost:8080/",
          "height": 56
        },
        "id": "UHt_ICm5p6Q-",
        "outputId": "72c6a75f-1cdc-4547-df9a-b0f64248b5a4"
      },
      "source": [
        "from google.colab import files\n",
        "files.upload()"
      ],
      "execution_count": 71,
      "outputs": [
        {
          "output_type": "display_data",
          "data": {
            "text/html": [
              "\n",
              "     <input type=\"file\" id=\"files-f538d923-80dc-4b8c-8d44-69acd1e1f252\" name=\"files[]\" multiple disabled\n",
              "        style=\"border:none\" />\n",
              "     <output id=\"result-f538d923-80dc-4b8c-8d44-69acd1e1f252\">\n",
              "      Upload widget is only available when the cell has been executed in the\n",
              "      current browser session. Please rerun this cell to enable.\n",
              "      </output>\n",
              "      <script src=\"/nbextensions/google.colab/files.js\"></script> "
            ],
            "text/plain": [
              "<IPython.core.display.HTML object>"
            ]
          },
          "metadata": {
            "tags": []
          }
        },
        {
          "output_type": "execute_result",
          "data": {
            "text/plain": [
              "{}"
            ]
          },
          "metadata": {
            "tags": []
          },
          "execution_count": 71
        }
      ]
    },
    {
      "cell_type": "code",
      "metadata": {
        "colab": {
          "base_uri": "https://localhost:8080/"
        },
        "id": "11izB0t1qH78",
        "outputId": "448a7326-331a-429a-82d8-832bdf26bd4c"
      },
      "source": [
        "!ls"
      ],
      "execution_count": 72,
      "outputs": [
        {
          "output_type": "stream",
          "text": [
            "data.txt\t\tspark-3.0.1-bin-hadoop2.7\n",
            "fakefriends-header.csv\tspark-3.0.1-bin-hadoop2.7.tgz\n",
            "sample_data\n"
          ],
          "name": "stdout"
        }
      ]
    },
    {
      "cell_type": "code",
      "metadata": {
        "id": "bwsY3KT4qlC1"
      },
      "source": [
        "# importing python libraries\n",
        "\n",
        "import pandas as pd\n",
        "import numpy as np\n"
      ],
      "execution_count": 73,
      "outputs": []
    },
    {
      "cell_type": "markdown",
      "metadata": {
        "id": "57XvEw6iPTxP"
      },
      "source": [
        "#create a datframe for books csv file"
      ]
    },
    {
      "cell_type": "code",
      "metadata": {
        "id": "yNnKz7R6qwNQ"
      },
      "source": [
        "input_df = spark.read.text(\"fakefriends-header.csv\")"
      ],
      "execution_count": 74,
      "outputs": []
    },
    {
      "cell_type": "markdown",
      "metadata": {
        "id": "u2sntdtWPdph"
      },
      "source": [
        "# Split the datframe, to extract words"
      ]
    },
    {
      "cell_type": "markdown",
      "metadata": {
        "id": "blTJ_xOjTy15"
      },
      "source": [
        ">>func.split(input_df.value) helps in splitting data on specific value\n",
        ">>func.explode:\n",
        "explode is like flatmap transformation, it creates multiple rows with the operation\n"
      ]
    },
    {
      "cell_type": "code",
      "metadata": {
        "colab": {
          "base_uri": "https://localhost:8080/"
        },
        "id": "BawxjXyivpvr",
        "outputId": "85644ff9-fd89-47c8-fe85-1e2f2f89669a"
      },
      "source": [
        "words = input_df.select(func.explode(func.split(input_df.value, \"\\\\W+\")).alias(\"word\"))\n",
        "words.filter(words.word!= \"\")\n",
        " "
      ],
      "execution_count": 83,
      "outputs": [
        {
          "output_type": "execute_result",
          "data": {
            "text/plain": [
              "DataFrame[word: string]"
            ]
          },
          "metadata": {
            "tags": []
          },
          "execution_count": 83
        }
      ]
    },
    {
      "cell_type": "code",
      "metadata": {
        "id": "hCV-6AS6QEG9"
      },
      "source": [
        "#Normalize everything to lowercase\n",
        "\n",
        "l_case_words = words.select(func.lower(words.word).alias(\"word\"))"
      ],
      "execution_count": 84,
      "outputs": []
    },
    {
      "cell_type": "code",
      "metadata": {
        "id": "W1ZJXPYlWCWJ"
      },
      "source": [
        "#counting the occurence of each word\n",
        "wordcounts = l_case_words.groupby(\"word\").count()"
      ],
      "execution_count": 85,
      "outputs": []
    },
    {
      "cell_type": "code",
      "metadata": {
        "id": "ZmUqBgwwWTrv"
      },
      "source": [
        "#Sort by wordcounts\n",
        "wc_sorted = wordcounts.sort(\"count\")"
      ],
      "execution_count": 86,
      "outputs": []
    },
    {
      "cell_type": "code",
      "metadata": {
        "colab": {
          "base_uri": "https://localhost:8080/"
        },
        "id": "JS3GTe3xWi0t",
        "outputId": "b7b37964-3f4b-40b4-87d3-fad49bcfefff"
      },
      "source": [
        "#Results\n",
        "wc_sorted.show(wc_sorted.count())"
      ],
      "execution_count": 87,
      "outputs": [
        {
          "output_type": "stream",
          "text": [
            "+-------+-----+\n",
            "|   word|count|\n",
            "+-------+-----+\n",
            "|    448|    1|\n",
            "|    359|    1|\n",
            "|    433|    1|\n",
            "|    131|    1|\n",
            "|    199|    1|\n",
            "|    483|    1|\n",
            "|    177|    1|\n",
            "|    280|    1|\n",
            "|    200|    1|\n",
            "|    408|    1|\n",
            "|    432|    1|\n",
            "|    270|    1|\n",
            "|    484|    1|\n",
            "|    327|    1|\n",
            "|    297|    1|\n",
            "|    202|    1|\n",
            "|    156|    1|\n",
            "|    317|    1|\n",
            "|    303|    1|\n",
            "|    190|    1|\n",
            "|    288|    1|\n",
            "|    132|    1|\n",
            "|    144|    1|\n",
            "|    241|    1|\n",
            "|     82|    1|\n",
            "|    285|    1|\n",
            "|    279|    1|\n",
            "|    163|    1|\n",
            "|    231|    1|\n",
            "|    398|    1|\n",
            "|    365|    1|\n",
            "|    415|    1|\n",
            "|    122|    1|\n",
            "|    425|    1|\n",
            "|    117|    1|\n",
            "|    414|    1|\n",
            "|    482|    1|\n",
            "|    247|    1|\n",
            "|    422|    1|\n",
            "|    296|    1|\n",
            "|    461|    1|\n",
            "|    453|    1|\n",
            "|    age|    1|\n",
            "|    302|    1|\n",
            "|    437|    1|\n",
            "|    416|    1|\n",
            "|    399|    1|\n",
            "|    232|    1|\n",
            "|    242|    1|\n",
            "|    114|    1|\n",
            "|    366|    1|\n",
            "|    162|    1|\n",
            "|    213|    1|\n",
            "|    291|    1|\n",
            "|    449|    1|\n",
            "|    170|    1|\n",
            "|    382|    1|\n",
            "|    139|    1|\n",
            "|    310|    1|\n",
            "|    218|    1|\n",
            "|    259|    1|\n",
            "|    250|    1|\n",
            "|    141|    1|\n",
            "|    166|    1|\n",
            "|    219|    1|\n",
            "|    379|    1|\n",
            "|    159|    1|\n",
            "|    377|    1|\n",
            "|    209|    1|\n",
            "|    239|    1|\n",
            "|    140|    1|\n",
            "|    402|    1|\n",
            "|    457|    1|\n",
            "|    351|    1|\n",
            "|    479|    1|\n",
            "|    322|    1|\n",
            "|    387|    1|\n",
            "|    130|    1|\n",
            "|    336|    1|\n",
            "|    374|    1|\n",
            "|    375|    1|\n",
            "|    475|    1|\n",
            "|    494|    1|\n",
            "|    480|    1|\n",
            "|    152|    1|\n",
            "|    314|    1|\n",
            "|    186|    1|\n",
            "|    358|    1|\n",
            "|    134|    1|\n",
            "|    405|    1|\n",
            "|     78|    1|\n",
            "|    328|    1|\n",
            "|    486|    1|\n",
            "|     85|    1|\n",
            "|    136|    1|\n",
            "|    237|    1|\n",
            "|    325|    1|\n",
            "|    447|    1|\n",
            "|    118|    1|\n",
            "|     16|    1|\n",
            "|    295|    1|\n",
            "|    211|    1|\n",
            "|    409|    1|\n",
            "|    341|    1|\n",
            "|    420|    1|\n",
            "|    185|    1|\n",
            "|    127|    1|\n",
            "|    171|    1|\n",
            "|    183|    1|\n",
            "|    386|    1|\n",
            "|    165|    1|\n",
            "|    256|    1|\n",
            "|    452|    1|\n",
            "|    255|    1|\n",
            "|     71|    1|\n",
            "|    222|    1|\n",
            "|    187|    1|\n",
            "|   name|    1|\n",
            "| userid|    1|\n",
            "|    306|    1|\n",
            "|    104|    1|\n",
            "|      0|    1|\n",
            "|     90|    1|\n",
            "|    498|    1|\n",
            "|    331|    1|\n",
            "|    210|    1|\n",
            "|    315|    1|\n",
            "|    411|    1|\n",
            "|    473|    1|\n",
            "|    339|    1|\n",
            "|     83|    1|\n",
            "|    333|    1|\n",
            "|    434|    1|\n",
            "|    215|    1|\n",
            "|    110|    1|\n",
            "|    157|    1|\n",
            "|    107|    1|\n",
            "|    468|    1|\n",
            "|     94|    1|\n",
            "|     91|    1|\n",
            "|    195|    1|\n",
            "|    347|    1|\n",
            "|    466|    1|\n",
            "|      3|    1|\n",
            "|    489|    1|\n",
            "|    102|    1|\n",
            "|    223|    1|\n",
            "|    321|    1|\n",
            "|    458|    1|\n",
            "|    262|    1|\n",
            "|friends|    1|\n",
            "|    368|    1|\n",
            "|    238|    1|\n",
            "|    370|    1|\n",
            "|    390|    1|\n",
            "|    196|    1|\n",
            "|    111|    1|\n",
            "|    403|    1|\n",
            "|    205|    1|\n",
            "|    301|    1|\n",
            "|     80|    1|\n",
            "|    226|    1|\n",
            "|    330|    1|\n",
            "|    214|    1|\n",
            "|    216|    1|\n",
            "|    495|    1|\n",
            "|    113|    1|\n",
            "|     73|    2|\n",
            "|    168|    2|\n",
            "|    155|    2|\n",
            "|    188|    2|\n",
            "|     98|    2|\n",
            "|    372|    2|\n",
            "|    103|    2|\n",
            "|    189|    2|\n",
            "|    233|    2|\n",
            "|    348|    2|\n",
            "|    135|    2|\n",
            "|    320|    2|\n",
            "|    308|    2|\n",
            "|    282|    2|\n",
            "|      5|    2|\n",
            "|    401|    2|\n",
            "|    193|    2|\n",
            "|    300|    2|\n",
            "|     70|    2|\n",
            "|    389|    2|\n",
            "|    261|    2|\n",
            "|     86|    2|\n",
            "|    364|    2|\n",
            "|     11|    2|\n",
            "|    146|    2|\n",
            "|    178|    2|\n",
            "|    307|    2|\n",
            "|    243|    2|\n",
            "|    352|    2|\n",
            "|    160|    2|\n",
            "|    316|    2|\n",
            "|    120|    2|\n",
            "|    326|    2|\n",
            "|      9|    2|\n",
            "|     79|    2|\n",
            "|    455|    2|\n",
            "|    164|    2|\n",
            "|    138|    2|\n",
            "|    203|    2|\n",
            "|    198|    2|\n",
            "|    105|    2|\n",
            "|    142|    2|\n",
            "|    488|    2|\n",
            "|    230|    2|\n",
            "|    371|    2|\n",
            "|    329|    2|\n",
            "|    424|    2|\n",
            "|    385|    2|\n",
            "|    246|    2|\n",
            "|    225|    2|\n",
            "|    467|    2|\n",
            "|      4|    2|\n",
            "|    229|    2|\n",
            "|    426|    2|\n",
            "|    413|    2|\n",
            "|    344|    2|\n",
            "|     87|    2|\n",
            "|    276|    2|\n",
            "|    123|    2|\n",
            "|    429|    2|\n",
            "|     74|    2|\n",
            "|    151|    2|\n",
            "|    388|    2|\n",
            "|    474|    2|\n",
            "|    478|    2|\n",
            "|    378|    2|\n",
            "|    456|    2|\n",
            "|    349|    2|\n",
            "|    179|    2|\n",
            "|    192|    2|\n",
            "|    406|    2|\n",
            "|    267|    2|\n",
            "|    145|    2|\n",
            "|    412|    2|\n",
            "|    167|    2|\n",
            "|    440|    2|\n",
            "|    369|    2|\n",
            "|    334|    2|\n",
            "|    376|    2|\n",
            "|    248|    2|\n",
            "|    292|    2|\n",
            "|    338|    2|\n",
            "|    176|    2|\n",
            "|    115|    2|\n",
            "|    421|    2|\n",
            "|    245|    2|\n",
            "|    283|    2|\n",
            "|    450|    2|\n",
            "|    281|    2|\n",
            "|    360|    2|\n",
            "|    224|    2|\n",
            "|    363|    2|\n",
            "|    443|    2|\n",
            "|    430|    2|\n",
            "|    274|    2|\n",
            "|    393|    2|\n",
            "|    217|    2|\n",
            "|    153|    2|\n",
            "|    148|    2|\n",
            "|    477|    2|\n",
            "|    240|    2|\n",
            "|    451|    2|\n",
            "|      8|    2|\n",
            "|    158|    2|\n",
            "|    361|    2|\n",
            "|    427|    2|\n",
            "|    286|    2|\n",
            "|    227|    2|\n",
            "|    258|    2|\n",
            "|    497|    2|\n",
            "|    143|    2|\n",
            "|    444|    2|\n",
            "|    490|    2|\n",
            "|    346|    2|\n",
            "|    299|    2|\n",
            "|     88|    2|\n",
            "|    268|    2|\n",
            "|    318|    2|\n",
            "|    149|    2|\n",
            "|    290|    2|\n",
            "|    454|    2|\n",
            "|     89|    2|\n",
            "|    357|    2|\n",
            "|    463|    2|\n",
            "|    251|    2|\n",
            "|    257|    2|\n",
            "|    485|    2|\n",
            "|    431|    2|\n",
            "|    395|    2|\n",
            "|    253|    2|\n",
            "|    362|    2|\n",
            "|    441|    2|\n",
            "|    235|    2|\n",
            "|    312|    2|\n",
            "|    181|    2|\n",
            "|    121|    2|\n",
            "|    252|    2|\n",
            "|    265|    2|\n",
            "|    298|    2|\n",
            "|    272|    2|\n",
            "|     12|    2|\n",
            "|    418|    2|\n",
            "|    396|    2|\n",
            "|    109|    2|\n",
            "|    191|    2|\n",
            "|    354|    2|\n",
            "|     14|    2|\n",
            "|    249|    2|\n",
            "|    128|    2|\n",
            "|    264|    2|\n",
            "|    464|    2|\n",
            "|    137|    2|\n",
            "|     99|    2|\n",
            "|    392|    2|\n",
            "|    367|    2|\n",
            "|    353|    2|\n",
            "|     76|    2|\n",
            "|    129|    2|\n",
            "|    263|    2|\n",
            "|    278|    2|\n",
            "|    435|    2|\n",
            "|    197|    2|\n",
            "|    324|    2|\n",
            "|    332|    2|\n",
            "|     93|    2|\n",
            "|    438|    2|\n",
            "|    459|    3|\n",
            "|    273|    3|\n",
            "|    100|    3|\n",
            "|    481|    3|\n",
            "|     75|    3|\n",
            "|    180|    3|\n",
            "|    323|    3|\n",
            "|    465|    3|\n",
            "|    423|    3|\n",
            "|      1|    3|\n",
            "|    228|    3|\n",
            "|    112|    3|\n",
            "|    172|    3|\n",
            "|    462|    3|\n",
            "|    445|    3|\n",
            "|    161|    3|\n",
            "|    487|    3|\n",
            "|    491|    3|\n",
            "|    254|    3|\n",
            "|     95|    3|\n",
            "|     96|    3|\n",
            "|    154|    3|\n",
            "|    133|    3|\n",
            "|    356|    3|\n",
            "|    476|    3|\n",
            "|    380|    3|\n",
            "|    108|    3|\n",
            "|    383|    3|\n",
            "|    206|    3|\n",
            "|    350|    3|\n",
            "|     81|    3|\n",
            "|    493|    3|\n",
            "|    277|    3|\n",
            "|    496|    3|\n",
            "|    173|    3|\n",
            "|     17|    3|\n",
            "|     97|    3|\n",
            "|    304|    3|\n",
            "|    407|    3|\n",
            "|    266|    3|\n",
            "|    125|    3|\n",
            "|    147|    3|\n",
            "|    381|    3|\n",
            "|    184|    3|\n",
            "|    391|    3|\n",
            "|    419|    3|\n",
            "|     77|    3|\n",
            "|      6|    3|\n",
            "|    309|    3|\n",
            "|     10|    3|\n",
            "|    410|    3|\n",
            "|    124|    3|\n",
            "|    400|    3|\n",
            "|    260|    3|\n",
            "|    182|    3|\n",
            "|    169|    3|\n",
            "|    175|    3|\n",
            "|    446|    3|\n",
            "|    355|    3|\n",
            "|    319|    3|\n",
            "|    460|    3|\n",
            "|    234|    3|\n",
            "|    119|    3|\n",
            "|    373|    3|\n",
            "|    287|    3|\n",
            "|     92|    3|\n",
            "|    293|    3|\n",
            "|    269|    3|\n",
            "|    150|    3|\n",
            "|    313|    3|\n",
            "|    212|    3|\n",
            "|    208|    3|\n",
            "|    116|    3|\n",
            "|    289|    3|\n",
            "|    342|    3|\n",
            "|    472|    3|\n",
            "|    201|    3|\n",
            "|    428|    3|\n",
            "|     72|    3|\n",
            "|    469|    3|\n",
            "|    311|    3|\n",
            "|    436|    3|\n",
            "|    492|    4|\n",
            "|      7|    4|\n",
            "|    499|    4|\n",
            "|    271|    4|\n",
            "|     15|    4|\n",
            "|    294|    4|\n",
            "|    394|    4|\n",
            "|    101|    4|\n",
            "|    126|    4|\n",
            "|     84|    4|\n",
            "|    236|    4|\n",
            "|    343|    4|\n",
            "|    442|    4|\n",
            "|    384|    4|\n",
            "|    470|    4|\n",
            "|    244|    4|\n",
            "|    194|    4|\n",
            "|     13|    4|\n",
            "|    337|    4|\n",
            "|    220|    4|\n",
            "|    204|    4|\n",
            "|    305|    4|\n",
            "|    397|    4|\n",
            "|    417|    4|\n",
            "|    404|    4|\n",
            "|    439|    4|\n",
            "|    207|    5|\n",
            "|    345|    5|\n",
            "|    221|    5|\n",
            "|    471|    5|\n",
            "|    335|    5|\n",
            "|      2|    5|\n",
            "|    340|    5|\n",
            "|    284|    5|\n",
            "|    106|    5|\n",
            "|    275|    5|\n",
            "|     50|    6|\n",
            "|    174|    6|\n",
            "|     20|    6|\n",
            "|     63|    7|\n",
            "|     24|    8|\n",
            "|     39|    8|\n",
            "|     43|    8|\n",
            "|     51|    8|\n",
            "|     42|    8|\n",
            "|     60|    8|\n",
            "|     56|    8|\n",
            "|     53|    9|\n",
            "|     27|    9|\n",
            "|     34|    9|\n",
            "|     31|   10|\n",
            "|     18|   10|\n",
            "|     35|   10|\n",
            "|     37|   10|\n",
            "|     65|   10|\n",
            "|     47|   10|\n",
            "|     22|   10|\n",
            "|     49|   10|\n",
            "|  miles|   10|\n",
            "|     66|   10|\n",
            "|     21|   11|\n",
            "|     59|   11|\n",
            "|     61|   11|\n",
            "|     69|   11|\n",
            "|     28|   11|\n",
            "|lwaxana|   12|\n",
            "|   elim|   12|\n",
            "|     19|   12|\n",
            "|     30|   12|\n",
            "|     25|   12|\n",
            "|    rom|   12|\n",
            "|     58|   12|\n",
            "| julian|   12|\n",
            "| gowron|   12|\n",
            "| guinan|   12|\n",
            "| jadzia|   12|\n",
            "| martok|   12|\n",
            "|     52|   12|\n",
            "|     23|   12|\n",
            "|     64|   13|\n",
            "|     32|   13|\n",
            "|     29|   13|\n",
            "|     41|   13|\n",
            "|     44|   13|\n",
            "|     36|   13|\n",
            "|     48|   13|\n",
            "|   worf|   14|\n",
            "|     68|   14|\n",
            "|     55|   14|\n",
            "|     33|   14|\n",
            "|     45|   14|\n",
            "|     46|   15|\n",
            "|    odo|   15|\n",
            "| weyoun|   15|\n",
            "|     62|   15|\n",
            "|  leeta|   15|\n",
            "|     57|   15|\n",
            "|   morn|   16|\n",
            "|    luc|   16|\n",
            "|     54|   16|\n",
            "|   jean|   16|\n",
            "| deanna|   17|\n",
            "|     67|   17|\n",
            "|    ben|   17|\n",
            "|     26|   18|\n",
            "|     40|   18|\n",
            "|   will|   19|\n",
            "| kasidy|   19|\n",
            "|     38|   19|\n",
            "|  nerys|   19|\n",
            "|beverly|   20|\n",
            "| geordi|   20|\n",
            "|   ezri|   20|\n",
            "|   hugh|   20|\n",
            "|  quark|   21|\n",
            "|  keiko|   21|\n",
            "|  dukat|   21|\n",
            "|    nog|   22|\n",
            "|  brunt|   22|\n",
            "|   data|   25|\n",
            "+-------+-----+\n",
            "\n"
          ],
          "name": "stdout"
        }
      ]
    },
    {
      "cell_type": "code",
      "metadata": {
        "id": "AroMAazaW6Aw"
      },
      "source": [
        ""
      ],
      "execution_count": null,
      "outputs": []
    }
  ]
}